{
 "cells": [
  {
   "cell_type": "markdown",
   "metadata": {},
   "source": [
    "<a id=top></a>\n",
    "\n",
    "\n",
    "## Exploratory Data Analysis of the COVID-19 Pandemic\n",
    "\n",
    "#### &copy; 2020 Eleni Angelaki, Efthimios Kaxiras\n",
    "\n",
    "<BR>"
   ]
  },
  {
   "cell_type": "code",
   "execution_count": 1,
   "metadata": {
    "hide": true
   },
   "outputs": [],
   "source": [
    "import numpy as np\n",
    "import pandas as pd\n",
    "#import dovpanda as dov # helpful pandas suggestions if you want them\n",
    "import matplotlib\n",
    "import matplotlib.pyplot as plt\n",
    "import seaborn as sns\n",
    "import warnings\n",
    "import glob\n",
    "from scipy.stats import norm\n",
    "import scipy.stats as st"
   ]
  },
  {
   "cell_type": "code",
   "execution_count": 2,
   "metadata": {
    "hide": true
   },
   "outputs": [],
   "source": [
    "# extend pandas printing (optional)\n",
    "pd.options.display.max_columns = 500  \n",
    "pd.options.display.max_rows = 3000     \n",
    "pd.options.display.max_colwidth = 200\n",
    "pd.options.display.precision = 3\n",
    "\n",
    "from sklearn.metrics import confusion_matrix, classification_report\n",
    "warnings.filterwarnings('ignore')\n",
    "matplotlib.style.use('ggplot')\n",
    "%matplotlib inline"
   ]
  },
  {
   "cell_type": "markdown",
   "metadata": {},
   "source": [
    "### Import Daily Data from:\n",
    "https://ourworldindata.org/coronavirus-source-data \n",
    "(Sourced from the European Centre for Disease)"
   ]
  },
  {
   "cell_type": "code",
   "execution_count": 3,
   "metadata": {},
   "outputs": [
    {
     "data": {
      "text/html": [
       "<div>\n",
       "<style scoped>\n",
       "    .dataframe tbody tr th:only-of-type {\n",
       "        vertical-align: middle;\n",
       "    }\n",
       "\n",
       "    .dataframe tbody tr th {\n",
       "        vertical-align: top;\n",
       "    }\n",
       "\n",
       "    .dataframe thead th {\n",
       "        text-align: right;\n",
       "    }\n",
       "</style>\n",
       "<table border=\"1\" class=\"dataframe\">\n",
       "  <thead>\n",
       "    <tr style=\"text-align: right;\">\n",
       "      <th></th>\n",
       "      <th>dateRep</th>\n",
       "      <th>day</th>\n",
       "      <th>month</th>\n",
       "      <th>year</th>\n",
       "      <th>cases</th>\n",
       "      <th>deaths</th>\n",
       "      <th>countriesAndTerritories</th>\n",
       "      <th>geoId</th>\n",
       "      <th>countryterritoryCode</th>\n",
       "      <th>popData2018</th>\n",
       "    </tr>\n",
       "  </thead>\n",
       "  <tbody>\n",
       "    <tr>\n",
       "      <th>0</th>\n",
       "      <td>12/04/2020</td>\n",
       "      <td>12</td>\n",
       "      <td>4</td>\n",
       "      <td>2020</td>\n",
       "      <td>34</td>\n",
       "      <td>3</td>\n",
       "      <td>Afghanistan</td>\n",
       "      <td>AF</td>\n",
       "      <td>AFG</td>\n",
       "      <td>3.717e+07</td>\n",
       "    </tr>\n",
       "    <tr>\n",
       "      <th>1</th>\n",
       "      <td>11/04/2020</td>\n",
       "      <td>11</td>\n",
       "      <td>4</td>\n",
       "      <td>2020</td>\n",
       "      <td>37</td>\n",
       "      <td>0</td>\n",
       "      <td>Afghanistan</td>\n",
       "      <td>AF</td>\n",
       "      <td>AFG</td>\n",
       "      <td>3.717e+07</td>\n",
       "    </tr>\n",
       "    <tr>\n",
       "      <th>2</th>\n",
       "      <td>10/04/2020</td>\n",
       "      <td>10</td>\n",
       "      <td>4</td>\n",
       "      <td>2020</td>\n",
       "      <td>61</td>\n",
       "      <td>1</td>\n",
       "      <td>Afghanistan</td>\n",
       "      <td>AF</td>\n",
       "      <td>AFG</td>\n",
       "      <td>3.717e+07</td>\n",
       "    </tr>\n",
       "    <tr>\n",
       "      <th>3</th>\n",
       "      <td>09/04/2020</td>\n",
       "      <td>9</td>\n",
       "      <td>4</td>\n",
       "      <td>2020</td>\n",
       "      <td>56</td>\n",
       "      <td>3</td>\n",
       "      <td>Afghanistan</td>\n",
       "      <td>AF</td>\n",
       "      <td>AFG</td>\n",
       "      <td>3.717e+07</td>\n",
       "    </tr>\n",
       "    <tr>\n",
       "      <th>4</th>\n",
       "      <td>08/04/2020</td>\n",
       "      <td>8</td>\n",
       "      <td>4</td>\n",
       "      <td>2020</td>\n",
       "      <td>30</td>\n",
       "      <td>4</td>\n",
       "      <td>Afghanistan</td>\n",
       "      <td>AF</td>\n",
       "      <td>AFG</td>\n",
       "      <td>3.717e+07</td>\n",
       "    </tr>\n",
       "  </tbody>\n",
       "</table>\n",
       "</div>"
      ],
      "text/plain": [
       "      dateRep  day  month  year  cases  deaths countriesAndTerritories geoId  \\\n",
       "0  12/04/2020   12      4  2020     34       3             Afghanistan    AF   \n",
       "1  11/04/2020   11      4  2020     37       0             Afghanistan    AF   \n",
       "2  10/04/2020   10      4  2020     61       1             Afghanistan    AF   \n",
       "3  09/04/2020    9      4  2020     56       3             Afghanistan    AF   \n",
       "4  08/04/2020    8      4  2020     30       4             Afghanistan    AF   \n",
       "\n",
       "  countryterritoryCode  popData2018  \n",
       "0                  AFG    3.717e+07  \n",
       "1                  AFG    3.717e+07  \n",
       "2                  AFG    3.717e+07  \n",
       "3                  AFG    3.717e+07  \n",
       "4                  AFG    3.717e+07  "
      ]
     },
     "execution_count": 3,
     "metadata": {},
     "output_type": "execute_result"
    }
   ],
   "source": [
    "data = 'https://opendata.ecdc.europa.eu/covid19/casedistribution/csv'\n",
    "daily_coronadata = pd.read_csv(data, index_col=False)\n",
    "daily_coronadata.dropna(subset=['countryterritoryCode'], inplace=True) \n",
    "daily_coronadata.head()"
   ]
  },
  {
   "cell_type": "code",
   "execution_count": 4,
   "metadata": {},
   "outputs": [],
   "source": [
    "# Helper code\n",
    "def find_country_code(country, daily_corona):\n",
    "    try:\n",
    "        return daily_corona[daily_corona['countriesAndTerritories']==country].countryterritoryCode.iloc[0]\n",
    "    except:\n",
    "        print(f'Could not find country named \\\"{country}\\\" \\n')\n",
    "        print(f'See list of country names:\\n{daily_corona.countriesAndTerritories.unique()}')\n",
    "        pass\n",
    "    \n",
    "def plot_countries(country_codes, daily, thresh, title_to_save):\n",
    "    fig = plt.figure(figsize=(10,5))\n",
    "    plt.title('Covid19 cases by country')\n",
    "    for code in country_codes:\n",
    "        data = daily[code][thresh[code]:]\n",
    "        x = np.arange(len(data))\n",
    "        plt.plot(x, data, label=code);\n",
    "    plt.legend()\n",
    "    #fig.savefig(title_to_save, format='png')\n",
    "    \n",
    "def plot_countries_by_popul(country_codes, daily, thresh, title_to_save, pops_array):\n",
    "    fig = plt.figure(figsize=(10,5))\n",
    "    plt.title('Covid19 cases by country')\n",
    "    for code in country_codes:\n",
    "        data = daily[code][thresh[code]:]\n",
    "        data = data/pops_array[code]*1.0e6\n",
    "        x = np.arange(len(data))\n",
    "        plt.plot(x, data, label=code);\n",
    "    plt.legend()\n",
    "    #fig.savefig(title_to_save, format='png')"
   ]
  },
  {
   "cell_type": "markdown",
   "metadata": {},
   "source": [
    "#### Creating county case array `daily['GRC']`\n",
    "We want to create a dictionary that associates country codes with their respective array of susceptible cases. This is called `daily` and to access the array we call, for example `daily['GRC']`."
   ]
  },
  {
   "cell_type": "code",
   "execution_count": 5,
   "metadata": {},
   "outputs": [],
   "source": [
    "daily = {}\n",
    "for code in daily_coronadata['countryterritoryCode'].unique():\n",
    "    daily_array = daily_coronadata[daily_coronadata['countryterritoryCode']==code]['cases'].to_numpy()[::-1]\n",
    "    daily[code] = daily_array"
   ]
  },
  {
   "cell_type": "code",
   "execution_count": 6,
   "metadata": {},
   "outputs": [
    {
     "data": {
      "text/plain": [
       "array([    0,     0,     0,     0,     0,     0,     0,     0,     0,\n",
       "           0,     0,     0,     0,     0,     0,     0,     0,     0,\n",
       "           0,     0,     0,     1,     0,     0,     0,     1,     0,\n",
       "           3,     0,     0,     0,     1,     1,     1,     3,     0,\n",
       "           0,     1,     0,     0,     0,     0,     1,     0,     1,\n",
       "           1,     0,     0,     0,     0,     0,     0,     1,    19,\n",
       "           0,     0,    18,     0,     6,     1,     6,     3,    20,\n",
       "          14,    22,    34,    74,   105,    95,   121,   200,   271,\n",
       "         287,   351,   511,   777,   823,   887,  1766,  2988,  4835,\n",
       "        5374,  7123,  8459, 11236,  8789, 13963, 16797, 18695, 19979,\n",
       "       18360, 21595, 24998, 27103, 28819, 32425, 34272, 25398, 30561,\n",
       "       30613, 33323, 33901, 35527, 28391])"
      ]
     },
     "execution_count": 6,
     "metadata": {},
     "output_type": "execute_result"
    }
   ],
   "source": [
    "daily['USA']"
   ]
  },
  {
   "cell_type": "markdown",
   "metadata": {},
   "source": [
    "#### If we are not sure about the country's code we can find it in the `daily_coronadata` using its name."
   ]
  },
  {
   "cell_type": "code",
   "execution_count": 7,
   "metadata": {},
   "outputs": [
    {
     "data": {
      "text/plain": [
       "'GRC'"
      ]
     },
     "execution_count": 7,
     "metadata": {},
     "output_type": "execute_result"
    }
   ],
   "source": [
    "country='Greece'\n",
    "find_country_code(country, daily_coronadata)"
   ]
  },
  {
   "cell_type": "code",
   "execution_count": 8,
   "metadata": {},
   "outputs": [
    {
     "data": {
      "text/plain": [
       "'LUX'"
      ]
     },
     "execution_count": 8,
     "metadata": {},
     "output_type": "execute_result"
    }
   ],
   "source": [
    "country = 'Luxembourg'\n",
    "find_country_code(country, daily_coronadata)"
   ]
  },
  {
   "cell_type": "code",
   "execution_count": 9,
   "metadata": {},
   "outputs": [
    {
     "data": {
      "text/plain": [
       "'USA'"
      ]
     },
     "execution_count": 9,
     "metadata": {},
     "output_type": "execute_result"
    }
   ],
   "source": [
    "country = 'United_States_of_America'\n",
    "find_country_code(country, daily_coronadata)"
   ]
  },
  {
   "cell_type": "code",
   "execution_count": 10,
   "metadata": {},
   "outputs": [
    {
     "name": "stdout",
     "output_type": "stream",
     "text": [
      "Could not find country named \"San_Mari\" \n",
      "\n",
      "See list of country names:\n",
      "['Afghanistan' 'Albania' 'Algeria' 'Andorra' 'Angola'\n",
      " 'Antigua_and_Barbuda' 'Argentina' 'Armenia' 'Aruba' 'Australia' 'Austria'\n",
      " 'Azerbaijan' 'Bahamas' 'Bahrain' 'Bangladesh' 'Barbados' 'Belarus'\n",
      " 'Belgium' 'Belize' 'Benin' 'Bermuda' 'Bhutan' 'Bolivia'\n",
      " 'Bosnia_and_Herzegovina' 'Botswana' 'Brazil' 'British_Virgin_Islands'\n",
      " 'Brunei_Darussalam' 'Bulgaria' 'Burkina_Faso' 'Burundi' 'Cambodia'\n",
      " 'Cameroon' 'Canada' 'Cape_Verde' 'Cayman_Islands'\n",
      " 'Central_African_Republic' 'Chad' 'Chile' 'China' 'Colombia' 'Congo'\n",
      " 'Costa_Rica' 'Cote_dIvoire' 'Croatia' 'Cuba' 'Curaçao' 'Cyprus'\n",
      " 'Democratic_Republic_of_the_Congo' 'Denmark' 'Djibouti' 'Dominica'\n",
      " 'Dominican_Republic' 'Ecuador' 'Egypt' 'El_Salvador' 'Equatorial_Guinea'\n",
      " 'Eritrea' 'Estonia' 'Eswatini' 'Ethiopia' 'Faroe_Islands' 'Fiji'\n",
      " 'Finland' 'France' 'French_Polynesia' 'Gabon' 'Gambia' 'Georgia'\n",
      " 'Germany' 'Ghana' 'Gibraltar' 'Greece' 'Greenland' 'Grenada' 'Guam'\n",
      " 'Guatemala' 'Guernsey' 'Guinea' 'Guinea_Bissau' 'Guyana' 'Haiti'\n",
      " 'Holy_See' 'Honduras' 'Hungary' 'Iceland' 'India' 'Indonesia' 'Iran'\n",
      " 'Iraq' 'Ireland' 'Isle_of_Man' 'Israel' 'Italy' 'Jamaica' 'Japan'\n",
      " 'Jersey' 'Jordan' 'Kazakhstan' 'Kenya' 'Kosovo' 'Kuwait' 'Kyrgyzstan'\n",
      " 'Laos' 'Latvia' 'Lebanon' 'Liberia' 'Libya' 'Liechtenstein' 'Lithuania'\n",
      " 'Luxembourg' 'Madagascar' 'Malawi' 'Malaysia' 'Maldives' 'Mali' 'Malta'\n",
      " 'Mauritania' 'Mauritius' 'Mexico' 'Moldova' 'Monaco' 'Mongolia'\n",
      " 'Montenegro' 'Montserrat' 'Morocco' 'Mozambique' 'Myanmar' 'Namibia'\n",
      " 'Nepal' 'Netherlands' 'New_Caledonia' 'New_Zealand' 'Nicaragua' 'Niger'\n",
      " 'Nigeria' 'North_Macedonia' 'Northern_Mariana_Islands' 'Norway' 'Oman'\n",
      " 'Pakistan' 'Palestine' 'Panama' 'Papua_New_Guinea' 'Paraguay' 'Peru'\n",
      " 'Philippines' 'Poland' 'Portugal' 'Puerto_Rico' 'Qatar' 'Romania'\n",
      " 'Russia' 'Rwanda' 'Saint_Kitts_and_Nevis' 'Saint_Lucia'\n",
      " 'Saint_Vincent_and_the_Grenadines' 'San_Marino' 'Sao_Tome_and_Principe'\n",
      " 'Saudi_Arabia' 'Senegal' 'Serbia' 'Seychelles' 'Sierra_Leone' 'Singapore'\n",
      " 'Sint_Maarten' 'Slovakia' 'Slovenia' 'Somalia' 'South_Africa'\n",
      " 'South_Korea' 'South_Sudan' 'Spain' 'Sri_Lanka' 'Sudan' 'Suriname'\n",
      " 'Sweden' 'Switzerland' 'Syria' 'Taiwan' 'Thailand' 'Timor_Leste' 'Togo'\n",
      " 'Trinidad_and_Tobago' 'Tunisia' 'Turkey' 'Turks_and_Caicos_islands'\n",
      " 'Uganda' 'Ukraine' 'United_Arab_Emirates' 'United_Kingdom'\n",
      " 'United_Republic_of_Tanzania' 'United_States_of_America'\n",
      " 'United_States_Virgin_Islands' 'Uruguay' 'Uzbekistan' 'Venezuela'\n",
      " 'Vietnam' 'Yemen' 'Zambia' 'Zimbabwe']\n"
     ]
    }
   ],
   "source": [
    "country = 'San_Mari'\n",
    "find_country_code(country, daily_coronadata)"
   ]
  },
  {
   "cell_type": "code",
   "execution_count": 11,
   "metadata": {},
   "outputs": [],
   "source": [
    "# CHECKING : print all country codes\n",
    "#daily_coronadata['countryterritoryCode'].unique()"
   ]
  },
  {
   "cell_type": "code",
   "execution_count": 12,
   "metadata": {},
   "outputs": [],
   "source": [
    "# CHECKING : print all country names\n",
    "#daily_coronadata['countriesAndTerritories'].unique()"
   ]
  },
  {
   "cell_type": "markdown",
   "metadata": {},
   "source": [
    "#### Creating county cummulative array `cumm['GRC']`\n",
    "\n",
    "We want to create a dictionary that associates country codes with their respective cummulative cases."
   ]
  },
  {
   "cell_type": "code",
   "execution_count": 13,
   "metadata": {},
   "outputs": [],
   "source": [
    "# def plot_countries(country_codes, daily, thresh, title_to_save):\n",
    "#     fig = plt.figure(figsize=(6,5))\n",
    "#     plt.title('Covid19 cases by country')\n",
    "#     for code in country_codes:\n",
    "#         data = daily[code][thresh[code]:]\n",
    "#         x = np.arange(len(data))\n",
    "#         plt.plot(x, data, label=code);\n",
    "#     plt.legend()\n",
    "#     #fig.savefig(title_to_save, format='png')\n",
    "    \n",
    "# def plot_countries_by_popul(country_codes, daily, thresh, title_to_save, pops_array):\n",
    "#     fig = plt.figure(figsize=(6,5))\n",
    "#     plt.title('Covid19 cases by country')\n",
    "#     for code in country_codes:\n",
    "#         data = daily[code][thresh[code]:]\n",
    "#         data = data/pops_array[code]*1.0e6\n",
    "#         x = np.arange(len(data))\n",
    "#         plt.plot(x, data, label=code);\n",
    "#     plt.legend()\n",
    "#     #fig.savefig(title_to_save, format='png')"
   ]
  },
  {
   "cell_type": "code",
   "execution_count": 14,
   "metadata": {},
   "outputs": [],
   "source": [
    "# def plot_countries(country_codes, daily, thresh, title_to_save):\n",
    "#     fig = plt.figure(figsize=(6,5))\n",
    "#     plt.title('Covid19 cases by country')\n",
    "#     for code in country_codes:\n",
    "#         data = daily[code][thresh[code]:]\n",
    "#         x = np.arange(len(data))\n",
    "#         plt.plot(x, data, label=code);\n",
    "#     plt.legend()\n",
    "#     #fig.savefig(title_to_save, format='png')\n",
    "    \n",
    "# def plot_countries_by_popul(country_codes, daily, thresh, title_to_save, pops_array):\n",
    "#     fig = plt.figure(figsize=(6,5))\n",
    "#     plt.title('Covid19 cases by country')\n",
    "#     for code in country_codes:\n",
    "#         data = daily[code][thresh[code]:]\n",
    "#         data = data/pops_array[code]*1.0e6\n",
    "#         x = np.arange(len(data))\n",
    "#         plt.plot(x, data, label=code);\n",
    "#     plt.legend()\n",
    "#     #fig.savefig(title_to_save, format='png')"
   ]
  },
  {
   "cell_type": "markdown",
   "metadata": {},
   "source": [
    "#### Creating county populations array `pops['GRC']`\n",
    "\n",
    "We want to create a dictionary that associates country codes with their respective populations. This is called `pops` and to access it we call, for example `pops['GRC']`."
   ]
  },
  {
   "cell_type": "code",
   "execution_count": 15,
   "metadata": {},
   "outputs": [],
   "source": [
    "# Create a dictionary with countrynames and population \n",
    "pops = {}\n",
    "for code in daily_coronadata['countryterritoryCode'].unique():\n",
    "    population = daily_coronadata[daily_coronadata['countryterritoryCode']==code].popData2018.iloc[0]\n",
    "    pops[code] = population"
   ]
  },
  {
   "cell_type": "code",
   "execution_count": 16,
   "metadata": {},
   "outputs": [
    {
     "data": {
      "text/plain": [
       "327167434.0"
      ]
     },
     "execution_count": 16,
     "metadata": {},
     "output_type": "execute_result"
    }
   ],
   "source": [
    "# example print the population of Greece\n",
    "pops['USA']"
   ]
  },
  {
   "cell_type": "code",
   "execution_count": 17,
   "metadata": {},
   "outputs": [
    {
     "data": {
      "text/plain": [
       "607728.0"
      ]
     },
     "execution_count": 17,
     "metadata": {},
     "output_type": "execute_result"
    }
   ],
   "source": [
    "# or France\n",
    "pops['LUX']"
   ]
  },
  {
   "cell_type": "code",
   "execution_count": 18,
   "metadata": {
    "scrolled": false
   },
   "outputs": [],
   "source": [
    "# print dataframe subset for one country\n",
    "# country='France'\n",
    "# daily_coronadata[daily_coronadata['countriesAndTerritories']==country].head()"
   ]
  },
  {
   "cell_type": "markdown",
   "metadata": {},
   "source": [
    "#### Threshold for counting cases for each country.\n",
    "\n",
    "We want to get the arrays from the point in time when cases started. This does not always coincide with the start of the non-negative numbers due to insufficient reporting. We will do this manually by inspecting each array. See below for the numbers we have come up with:"
   ]
  },
  {
   "cell_type": "code",
   "execution_count": 19,
   "metadata": {},
   "outputs": [],
   "source": [
    "t0 = {'CHN': 17, 'ITA': 53, 'ESP': 56, 'FRA': 57, 'NLD': 59, 'GRC': 58, \n",
    "      'DEU': 57, 'USA': 59, 'GRB': 59, 'SWE': 58, 'CHE':57, 'GBR':59}"
   ]
  },
  {
   "cell_type": "code",
   "execution_count": 20,
   "metadata": {},
   "outputs": [],
   "source": [
    "te = {'CHN': 67, 'ITA': None, 'ESP': None, 'FRA': None, 'NLD': None, 'GRC': None, \n",
    "      'DEU': None, 'USA': None, 'GRB': None, 'SWE': None, 'CHE':None, 'GBR':None}"
   ]
  },
  {
   "cell_type": "code",
   "execution_count": 21,
   "metadata": {},
   "outputs": [
    {
     "data": {
      "text/plain": [
       "57"
      ]
     },
     "execution_count": 21,
     "metadata": {},
     "output_type": "execute_result"
    }
   ],
   "source": [
    "t0['DEU']"
   ]
  },
  {
   "cell_type": "code",
   "execution_count": 22,
   "metadata": {},
   "outputs": [],
   "source": [
    "te['ITA']"
   ]
  },
  {
   "cell_type": "code",
   "execution_count": 23,
   "metadata": {},
   "outputs": [
    {
     "name": "stdout",
     "output_type": "stream",
     "text": [
      "[ 0  0  0  0  0  0  0  0  0  0  0  0  0  0  0  0  0  0  0  0  0  0  0  0\n",
      "  0  0  0  0  0  0  0  0  0  0  0  0  0  0  0  0  0  0  0  0  0  0  0  0\n",
      "  0  0  0  0  0  0  0  0  0  0  0  1  0  0  7  2  5  7  1  3 11 12 13  4\n",
      "  1  6 19  6  4  2  5 17 25  0  0 36  0 21 10  5  1  5  0  1  6  9  6  8\n",
      "  7 11  2 29 25 11 12]\n"
     ]
    }
   ],
   "source": [
    "code = 'SMR'\n",
    "print(daily['SMR'])"
   ]
  },
  {
   "cell_type": "code",
   "execution_count": 24,
   "metadata": {
    "scrolled": false
   },
   "outputs": [
    {
     "ename": "KeyError",
     "evalue": "'SMR'",
     "output_type": "error",
     "traceback": [
      "\u001b[0;31m---------------------------------------------------------------------------\u001b[0m",
      "\u001b[0;31mKeyError\u001b[0m                                  Traceback (most recent call last)",
      "\u001b[0;32m<ipython-input-24-4368a5775d48>\u001b[0m in \u001b[0;36m<module>\u001b[0;34m\u001b[0m\n\u001b[1;32m      1\u001b[0m \u001b[0mcode\u001b[0m \u001b[0;34m=\u001b[0m \u001b[0;34m'SMR'\u001b[0m\u001b[0;34m\u001b[0m\u001b[0;34m\u001b[0m\u001b[0m\n\u001b[0;32m----> 2\u001b[0;31m \u001b[0mstart\u001b[0m \u001b[0;34m=\u001b[0m \u001b[0mt0\u001b[0m\u001b[0;34m[\u001b[0m\u001b[0mcode\u001b[0m\u001b[0;34m]\u001b[0m\u001b[0;34m\u001b[0m\u001b[0;34m\u001b[0m\u001b[0m\n\u001b[0m\u001b[1;32m      3\u001b[0m \u001b[0mprint\u001b[0m\u001b[0;34m(\u001b[0m\u001b[0mdaily\u001b[0m\u001b[0;34m[\u001b[0m\u001b[0mcode\u001b[0m\u001b[0;34m]\u001b[0m\u001b[0;34m)\u001b[0m\u001b[0;34m\u001b[0m\u001b[0;34m\u001b[0m\u001b[0m\n\u001b[1;32m      4\u001b[0m \u001b[0mprint\u001b[0m\u001b[0;34m(\u001b[0m\u001b[0;34m'-----'\u001b[0m\u001b[0;34m)\u001b[0m\u001b[0;34m\u001b[0m\u001b[0;34m\u001b[0m\u001b[0m\n\u001b[1;32m      5\u001b[0m \u001b[0mprint\u001b[0m\u001b[0;34m(\u001b[0m\u001b[0mdaily\u001b[0m\u001b[0;34m[\u001b[0m\u001b[0mcode\u001b[0m\u001b[0;34m]\u001b[0m\u001b[0;34m[\u001b[0m\u001b[0mstart\u001b[0m\u001b[0;34m:\u001b[0m\u001b[0;34m]\u001b[0m\u001b[0;34m)\u001b[0m\u001b[0;34m\u001b[0m\u001b[0;34m\u001b[0m\u001b[0m\n",
      "\u001b[0;31mKeyError\u001b[0m: 'SMR'"
     ]
    }
   ],
   "source": [
    "code = 'SMR'\n",
    "start = t0[code]\n",
    "print(daily[code])\n",
    "print('-----')\n",
    "print(daily[code][start:])"
   ]
  },
  {
   "cell_type": "code",
   "execution_count": 25,
   "metadata": {
    "scrolled": false
   },
   "outputs": [
    {
     "name": "stdout",
     "output_type": "stream",
     "text": [
      "[   0    0    0    0    0    0    0    0    0    0    0    0    0    0\n",
      "    0    0    0    0    0    0    0    0    0    0    0    0    0    0\n",
      "    0    0    0    0    1    0    0    0    0    0    0    0    0    1\n",
      "    0    0    0    0    0    0    0    0    0    0    0    0    0    0\n",
      "    1    4    5   13    9   32   17   31   37   49   61  113   56  159\n",
      "  615  435  501  864 1227 1522 2000 1438 1987 2538 3431 2833 4946 3646\n",
      " 4517 6584 7937 8578 7871 8189 6549 6398 9222 7719 8102 7472 7026 6023\n",
      " 4273 5478 6180 5756 4576 4830]\n",
      "[   1    4    5   13    9   32   17   31   37   49   61  113   56  159\n",
      "  615  435  501  864 1227 1522 2000 1438 1987 2538 3431 2833 4946 3646\n",
      " 4517 6584 7937 8578 7871 8189 6549 6398 9222 7719 8102 7472 7026 6023\n",
      " 4273 5478 6180 5756 4576 4830]\n"
     ]
    }
   ],
   "source": [
    "code = 'ESP'\n",
    "start = t0[code]\n",
    "print(daily[code])\n",
    "end = None\n",
    "print(daily[code][start:end])"
   ]
  },
  {
   "cell_type": "code",
   "execution_count": 26,
   "metadata": {
    "scrolled": false
   },
   "outputs": [
    {
     "name": "stdout",
     "output_type": "stream",
     "text": [
      "[   0    0    0    0    0    0    0    0    0    0    0    0    0    0\n",
      "    0    0    0    0    0    0    0    0    0    0    0    3    0    0\n",
      "    0    1    1    1    0    0    0    0    0    0    0    5    0    0\n",
      "    0    0    0    0    0    0    1    0    0    0    0    0    0    0\n",
      "    0    2    3   21   19   43   30   48   34   73  138  190  103  410\n",
      "  286  372  497  595  785  838  924 1210 1097 1404 1861 1617 1847 1559\n",
      " 3838 2446 2931 3922 3809 4611 2599 4376 7578 4861 2116 5233 4267 1873\n",
      " 3912 3777 3881 4286 4342 3114]\n",
      "[   2    3   21   19   43   30   48   34   73  138  190  103  410  286\n",
      "  372  497  595  785  838  924 1210 1097 1404 1861 1617 1847 1559 3838\n",
      " 2446 2931 3922 3809 4611 2599 4376 7578 4861 2116 5233 4267 1873 3912\n",
      " 3777 3881 4286 4342 3114]\n"
     ]
    }
   ],
   "source": [
    "code = 'FRA'\n",
    "start = t0[code]\n",
    "print(daily[code])\n",
    "print(daily[code][start:])"
   ]
  },
  {
   "cell_type": "code",
   "execution_count": 27,
   "metadata": {},
   "outputs": [
    {
     "name": "stdout",
     "output_type": "stream",
     "text": [
      "[   0    0    0    0    0    0    0    0    0    0    0    0    0    0\n",
      "    0    0    0    0    0    0    0    0    0    0    0    0    0    0\n",
      "    0    0    0    0    0    0    0    0    0    0    0    0    0    0\n",
      "    0    0    0    0    0    0    0    0    0    0    0    0    0    0\n",
      "    0    0    0    1    1    5    6    5   10   10   44   46   60   77\n",
      "   56   61  121  111  190  155  176  278  292  346  409  534  637  573\n",
      "  545  811  852 1019 1172 1159 1104  884  845 1019 1083 1026  904 1224\n",
      "  952  777  969 1213 1335 1316]\n",
      "[   1    1    5    6    5   10   10   44   46   60   77   56   61  121\n",
      "  111  190  155  176  278  292  346  409  534  637  573  545  811  852\n",
      " 1019 1172 1159 1104  884  845 1019 1083 1026  904 1224  952  777  969\n",
      " 1213 1335 1316]\n"
     ]
    }
   ],
   "source": [
    "code = 'NLD'\n",
    "start = t0[code]\n",
    "print(daily[code])\n",
    "print(daily[code][start:])"
   ]
  },
  {
   "cell_type": "code",
   "execution_count": 28,
   "metadata": {},
   "outputs": [
    {
     "name": "stdout",
     "output_type": "stream",
     "text": [
      "[  0   0   0   0   0   0   0   0   0   0   0   0   0   0   0   0   0   0\n",
      "   0   0   0   0   0   0   0   0   0   0   0   0   0   0   0   0   0   0\n",
      "   0   0   0   0   0   0   0   0   0   0   0   0   0   0   0   0   0   0\n",
      "   0   0   0   0   1   2   1   3   0   3  22  13  21   7  11   6   9  34\n",
      "  57  38 103  21  35  31  46  31  35  94  71  48  78  71  74  95  95  56\n",
      " 102  61 139  99  60  62  20  77  52  71  56  70]\n",
      "[  1   2   1   3   0   3  22  13  21   7  11   6   9  34  57  38 103  21\n",
      "  35  31  46  31  35  94  71  48  78  71  74  95  95  56 102  61 139  99\n",
      "  60  62  20  77  52  71  56  70]\n"
     ]
    }
   ],
   "source": [
    "code = 'GRC'\n",
    "start = t0[code]\n",
    "print(daily[code])\n",
    "print(daily[code][start:])"
   ]
  },
  {
   "cell_type": "code",
   "execution_count": 29,
   "metadata": {},
   "outputs": [
    {
     "name": "stdout",
     "output_type": "stream",
     "text": [
      "[   0    0    0    0    0    0    0    0    0    0    0    0    0    0\n",
      "    0    0    0    0    0    0    0    0    0    0    0    0    0    0\n",
      "    1    3    0    1    2    1    1    2    0    0    1    1    0    0\n",
      "    0    2    0    0    0    0    0    0    0    0    0    0    0    0\n",
      "    0    2    4   26   10   54   18   28   39   66  138  284  163   55\n",
      "  237  157  271  802  693  733 1043 1174 1144 1042 5940 4049 3276 3311\n",
      " 4438 2342 4954 5780 6294 3965 4751 4615 5453 6156 6174 6082 5936 3677\n",
      " 3834 4003 4974 5323 4133 2821]\n",
      "[   2    4   26   10   54   18   28   39   66  138  284  163   55  237\n",
      "  157  271  802  693  733 1043 1174 1144 1042 5940 4049 3276 3311 4438\n",
      " 2342 4954 5780 6294 3965 4751 4615 5453 6156 6174 6082 5936 3677 3834\n",
      " 4003 4974 5323 4133 2821]\n"
     ]
    }
   ],
   "source": [
    "code = 'DEU'\n",
    "start = t0[code]\n",
    "print(daily[code])\n",
    "print(daily[code][start:])"
   ]
  },
  {
   "cell_type": "code",
   "execution_count": 30,
   "metadata": {},
   "outputs": [
    {
     "name": "stdout",
     "output_type": "stream",
     "text": [
      "[    0     0     0     0     0     0     0     0     0     0     0     0\n",
      "     0     0     0     0     0     0     0     0     0     1     0     0\n",
      "     0     1     0     3     0     0     0     1     1     1     3     0\n",
      "     0     1     0     0     0     0     1     0     1     1     0     0\n",
      "     0     0     0     0     1    19     0     0    18     0     6     1\n",
      "     6     3    20    14    22    34    74   105    95   121   200   271\n",
      "   287   351   511   777   823   887  1766  2988  4835  5374  7123  8459\n",
      " 11236  8789 13963 16797 18695 19979 18360 21595 24998 27103 28819 32425\n",
      " 34272 25398 30561 30613 33323 33901 35527 28391]\n",
      "[    1     6     3    20    14    22    34    74   105    95   121   200\n",
      "   271   287   351   511   777   823   887  1766  2988  4835  5374  7123\n",
      "  8459 11236  8789 13963 16797 18695 19979 18360 21595 24998 27103 28819\n",
      " 32425 34272 25398 30561 30613 33323 33901 35527 28391]\n"
     ]
    }
   ],
   "source": [
    "code = 'USA'\n",
    "start = t0[code]\n",
    "print(daily[code])\n",
    "print(daily[code][start:])"
   ]
  },
  {
   "cell_type": "code",
   "execution_count": 31,
   "metadata": {},
   "outputs": [
    {
     "data": {
      "image/png": "[encoded data removed]",
      "text/plain": [
       "<Figure size 720x360 with 1 Axes>"
      ]
     },
     "metadata": {
      "needs_background": "light"
     },
     "output_type": "display_data"
    }
   ],
   "source": [
    "# plot to inspect\n",
    "plot_countries(['GRC'], daily, t0, 'n/a')"
   ]
  },
  {
   "cell_type": "code",
   "execution_count": null,
   "metadata": {},
   "outputs": [],
   "source": [
    "code = 'GBR'\n",
    "start = t0[code]\n",
    "print(daily[code])\n",
    "print(daily[code][start:])"
   ]
  },
  {
   "cell_type": "code",
   "execution_count": null,
   "metadata": {},
   "outputs": [],
   "source": [
    "code = 'SWE'\n",
    "start = t0[code]\n",
    "print(daily[code])\n",
    "print(daily[code][start:])"
   ]
  },
  {
   "cell_type": "code",
   "execution_count": null,
   "metadata": {},
   "outputs": [],
   "source": [
    "code = 'CHE'\n",
    "start = t0[code]\n",
    "print(daily[code])\n",
    "print(daily[code][start:])"
   ]
  },
  {
   "cell_type": "code",
   "execution_count": null,
   "metadata": {},
   "outputs": [],
   "source": [
    "# China has two thresholds so we manually set...\n",
    "#daily['CHN'] = daily['CHN'][:67]"
   ]
  },
  {
   "cell_type": "code",
   "execution_count": null,
   "metadata": {},
   "outputs": [],
   "source": [
    "countries_to_plot = ['CHN','GRC','ITA','CHE','NLD','DEU','FRA','ESP','GBR','USA']\n",
    "plot_countries(countries_to_plot, daily, t0, 'Total_10.png')"
   ]
  },
  {
   "cell_type": "code",
   "execution_count": null,
   "metadata": {},
   "outputs": [],
   "source": [
    "countries_to_plot = ['CHN','GRC','ITA','CHE','NLD','DEU','FRA','ESP','GBR','USA']\n",
    "plot_countries_by_popul(countries_to_plot, daily, t0, 'Total_scale_10.png', pops)"
   ]
  },
  {
   "cell_type": "code",
   "execution_count": null,
   "metadata": {},
   "outputs": [],
   "source": [
    "def daily_fit(t,t1,dt,dn):\n",
    "    a=0.25\n",
    "    t2=t1+dt\n",
    "    return dn*(1./(1.+np.exp(-a*(t-t1))) - 1./(1.+np.exp(-a*(t-t2))))"
   ]
  },
  {
   "cell_type": "code",
   "execution_count": null,
   "metadata": {},
   "outputs": [],
   "source": [
    "from scipy.optimize import curve_fit"
   ]
  },
  {
   "cell_type": "code",
   "execution_count": null,
   "metadata": {},
   "outputs": [],
   "source": [
    "# \n",
    "# Fit and print country=code data and parapmeters\n",
    "#\n",
    "\n",
    "def fit_and_print(code, daily, thresh, pops_array):\n",
    "    popul=pops_array[code]  # popul=popul_ESP\n",
    "    fdat = daily[code][thresh[code]:]  #fdat = daily_ESP\n",
    "    xdat = np.arange(len(fdat))\n",
    "\n",
    "    popt, pcov = curve_fit(daily_fit, xdat, fdat)\n",
    "    print(popt)\n",
    "    t1=popt[0]\n",
    "    dt=popt[1]\n",
    "    dn=popt[2]\n",
    "\n",
    "    #a1= 0.25    \n",
    "    #a2= 0.25  \n",
    "    #t1= 25      \n",
    "    #dt= 13     \n",
    "    #dn= 13000\n",
    "\n",
    "    ffit=daily_fit(xdat, t1, dt, dn)\n",
    "\n",
    "    rmsfit=np.sqrt(np.sum((ffit-fdat)**2)/len(fdat))\n",
    "    print(rmsfit/dn*100)\n",
    "\n",
    "    cumm_dat=np.zeros(len(fdat))\n",
    "    cumm_fit=np.zeros(len(fdat))\n",
    "    cumm_dat[0]=fdat[0]\n",
    "    cumm_fit[0]=ffit[0]\n",
    "    for i in range (1,len(fdat)):\n",
    "        cumm_dat[i]=cumm_dat[i-1]+fdat[i]\n",
    "        cumm_fit[i]=cumm_fit[i-1]+ffit[i]\n",
    "\n",
    "    fig=plt.figure(figsize=(15,5))\n",
    "    plt.scatter(xdat,fdat)\n",
    "    plt.plot(xdat,ffit,'g')\n",
    "    # plt.title('ESP: 4/8/2020')\n",
    "    plt.title(f'{code}: 4/8/2020')\n",
    "    plt.ylabel('Daily cases')\n",
    "    plt.xlabel('$t-t_0$ (days)')\n",
    "    plt.show();\n",
    "    #fig.savefig('Daily_ESP.png',format='png')\n",
    "    filename = f'Daily_{code}.png'\n",
    "    fig.savefig(filename,format='png')\n",
    "\n",
    "    T_ext=30\n",
    "    cumm_dat=np.zeros(len(fdat))\n",
    "    xdat_ext = np.arange(len(fdat)+T_ext)\n",
    "    ffit_ext=daily_fit(xdat_ext, t1, dt, dn)\n",
    "    cumm_fit=np.zeros(len(fdat)+T_ext)\n",
    "    cumm_dat[0]=fdat[0]\n",
    "    cumm_fit[0]=ffit[0]\n",
    "    for i in range (1,len(fdat)):\n",
    "        cumm_dat[i]=cumm_dat[i-1]+fdat[i]\n",
    "    for i in range (1,len(fdat)+T_ext):\n",
    "        cumm_fit[i]=cumm_fit[i-1]+ffit_ext[i]\n",
    "\n",
    "    fig=plt.figure(figsize=(15,5))\n",
    "    plt.scatter(xdat,cumm_dat)\n",
    "    plt.plot(xdat_ext,cumm_fit,'g')\n",
    "    plt.title(f'{code}: 4/8/2020') # plt.title('ESP: 4/8/2020')\n",
    "    plt.ylabel('Total cases')\n",
    "    plt.xlabel('$t-t_0$ (days)')\n",
    "    plt.show();\n",
    "    filename = f'Total_{code}.png'\n",
    "    fig.savefig(filename,format='png')\n",
    "    #fig.savefig('Total_ESP.png',format='png')\n",
    "\n",
    "    print(cumm_fit[-1])"
   ]
  },
  {
   "cell_type": "markdown",
   "metadata": {},
   "source": [
    "#### For each country code"
   ]
  },
  {
   "cell_type": "code",
   "execution_count": null,
   "metadata": {},
   "outputs": [],
   "source": [
    "fit_and_print('GRC', daily, t0, pops)"
   ]
  },
  {
   "cell_type": "code",
   "execution_count": null,
   "metadata": {},
   "outputs": [],
   "source": [
    "fit_and_print('ESP', daily, t0, pops)"
   ]
  },
  {
   "cell_type": "code",
   "execution_count": null,
   "metadata": {},
   "outputs": [],
   "source": [
    "# # ESP data and parapmeters\n",
    "# popul=popul_ESP\n",
    "# fdat = daily_ESP\n",
    "# xdat = np.arange(len(fdat))\n",
    "    \n",
    "# popt, pcov = curve_fit(daily_fit, xdat, fdat)\n",
    "# print(popt)\n",
    "# t1=popt[0]\n",
    "# dt=popt[1]\n",
    "# dn=popt[2]\n",
    "\n",
    "# #a1= 0.25    \n",
    "# #a2= 0.25  \n",
    "# #t1= 25      \n",
    "# #dt= 13     \n",
    "# #dn= 13000\n",
    "\n",
    "# ffit=daily_fit(xdat, t1, dt, dn)\n",
    "\n",
    "# rmsfit=np.sqrt(np.sum((ffit-fdat)**2)/len(fdat))\n",
    "# print(rmsfit/dn*100)\n",
    "\n",
    "# cumm_dat=np.zeros(len(fdat))\n",
    "# cumm_fit=np.zeros(len(fdat))\n",
    "# cumm_dat[0]=fdat[0]\n",
    "# cumm_fit[0]=ffit[0]\n",
    "# for i in range (1,len(fdat)):\n",
    "#     cumm_dat[i]=cumm_dat[i-1]+fdat[i]\n",
    "#     cumm_fit[i]=cumm_fit[i-1]+ffit[i]\n",
    "    \n",
    "# fig=plt.figure(figsize=(10,5))\n",
    "# plt.scatter(xdat,fdat)\n",
    "# plt.plot(xdat,ffit,'g')\n",
    "# plt.title('ESP: 4/8/2020')\n",
    "# plt.ylabel('Daily cases')\n",
    "# plt.xlabel('$t-t_0$ (days)')\n",
    "# plt.show();\n",
    "# fig.savefig('Daily_ESP.png',format='png')\n",
    "\n",
    "# T_ext=30\n",
    "# cumm_dat=np.zeros(len(fdat))\n",
    "# xdat_ext = np.arange(len(fdat)+T_ext)\n",
    "# ffit_ext=daily_fit(xdat_ext, t1, dt, dn)\n",
    "# cumm_fit=np.zeros(len(fdat)+T_ext)\n",
    "# cumm_dat[0]=fdat[0]\n",
    "# cumm_fit[0]=ffit[0]\n",
    "# for i in range (1,len(fdat)):\n",
    "#     cumm_dat[i]=cumm_dat[i-1]+fdat[i]\n",
    "# for i in range (1,len(fdat)+T_ext):\n",
    "#     cumm_fit[i]=cumm_fit[i-1]+ffit_ext[i]\n",
    "\n",
    "# fig=plt.figure(figsize=(10,5))\n",
    "# plt.scatter(xdat,cumm_dat)\n",
    "# plt.plot(xdat_ext,cumm_fit,'g')\n",
    "# plt.title('ESP: 4/8/2020')\n",
    "# plt.ylabel('Total cases')\n",
    "# plt.xlabel('$t-t_0$ (days)')\n",
    "# plt.show();\n",
    "# fig.savefig('Total_ESP.png',format='png')\n",
    "\n",
    "# print(cumm_fit[-1])"
   ]
  },
  {
   "cell_type": "code",
   "execution_count": null,
   "metadata": {},
   "outputs": [],
   "source": [
    "fit_and_print('ITA', daily, t0, pops)"
   ]
  },
  {
   "cell_type": "code",
   "execution_count": null,
   "metadata": {},
   "outputs": [],
   "source": [
    "# # ITA data and parapmeters\n",
    "\n",
    "# fdat = daily_ITA\n",
    "# xdat = np.arange(len(fdat))\n",
    "    \n",
    "# popt, pcov = curve_fit(daily_fit, xdat, fdat)\n",
    "# print(popt)\n",
    "# t1=popt[0]\n",
    "# dt=popt[1]\n",
    "# dn=popt[2]\n",
    "\n",
    "# #a1= 0.25    \n",
    "# #a2= 0.25    \n",
    "# #t1= 20      \n",
    "# #dt= 25      \n",
    "# #dn= 6000    \n",
    "\n",
    "# ffit=daily_fit(xdat, t1, dt, dn)\n",
    "\n",
    "# rmsfit=np.sqrt(np.sum((ffit-fdat)**2)/len(fdat))\n",
    "# print(rmsfit/dn*100)\n",
    "\n",
    "# plt.figure(figsize=(15,5))\n",
    "# plt.scatter(xdat,fdat)\n",
    "# plt.plot(xdat,ffit,'g')\n",
    "# plt.title('ITA: 4/8/2020')\n",
    "# plt.show();\n",
    "\n",
    "# T_ext=30\n",
    "# cumm_dat=np.zeros(len(fdat))\n",
    "# xdat_ext = np.arange(len(fdat)+T_ext)\n",
    "# ffit_ext=daily_fit(xdat_ext, t1, dt, dn)\n",
    "# cumm_fit=np.zeros(len(fdat)+T_ext)\n",
    "# cumm_dat[0]=fdat[0]\n",
    "# cumm_fit[0]=ffit[0]\n",
    "# for i in range (1,len(fdat)):\n",
    "#     cumm_dat[i]=cumm_dat[i-1]+fdat[i]\n",
    "# for i in range (1,len(fdat)+T_ext):\n",
    "#     cumm_fit[i]=cumm_fit[i-1]+ffit_ext[i]\n",
    "# plt.figure(figsize=(15,5))\n",
    "# plt.scatter(xdat,cumm_dat)\n",
    "# plt.plot(xdat_ext,cumm_fit,'g')\n",
    "# plt.title('ITA: 4/8/2020')\n",
    "# plt.show();\n",
    "# print(cumm_fit[-1])"
   ]
  },
  {
   "cell_type": "code",
   "execution_count": null,
   "metadata": {},
   "outputs": [],
   "source": [
    "fit_and_print('NLD', daily, t0, pops)"
   ]
  },
  {
   "cell_type": "code",
   "execution_count": null,
   "metadata": {},
   "outputs": [],
   "source": [
    "# # NDL data and parapmeters\n",
    "\n",
    "# fdat = daily_NLD\n",
    "# xdat = np.arange(len(fdat))\n",
    "    \n",
    "# popt, pcov = curve_fit(daily_fit, xdat, fdat)\n",
    "# print(popt)\n",
    "# t1=popt[0]\n",
    "# dt=popt[1]\n",
    "# dn=popt[2] \n",
    "\n",
    "# ffit=daily_fit(xdat, t1, dt, dn)\n",
    "\n",
    "# rmsfit=np.sqrt(np.sum((ffit-fdat)**2)/len(fdat))\n",
    "# print(rmsfit/dn*100)\n",
    "\n",
    "# plt.figure(figsize=(15,5))\n",
    "# plt.scatter(xdat,fdat)\n",
    "# plt.plot(xdat,ffit,'g')\n",
    "# plt.title('NLD: 4/8/2020')\n",
    "# plt.show();\n",
    "\n",
    "# T_ext=30\n",
    "# cumm_dat=np.zeros(len(fdat))\n",
    "# xdat_ext = np.arange(len(fdat)+T_ext)\n",
    "# ffit_ext=daily_fit(xdat_ext, t1, dt, dn)\n",
    "# cumm_fit=np.zeros(len(fdat)+T_ext)\n",
    "# cumm_dat[0]=fdat[0]\n",
    "# cumm_fit[0]=ffit[0]\n",
    "# for i in range (1,len(fdat)):\n",
    "#     cumm_dat[i]=cumm_dat[i-1]+fdat[i]\n",
    "# for i in range (1,len(fdat)+T_ext):\n",
    "#     cumm_fit[i]=cumm_fit[i-1]+ffit_ext[i]\n",
    "# plt.figure(figsize=(15,5))\n",
    "# plt.scatter(xdat,cumm_dat)\n",
    "# plt.plot(xdat_ext,cumm_fit,'g')\n",
    "# plt.title('NLD: 4/8/2020')\n",
    "# plt.show();\n",
    "\n",
    "# print(cumm_fit[-1])"
   ]
  },
  {
   "cell_type": "code",
   "execution_count": null,
   "metadata": {},
   "outputs": [],
   "source": [
    "fit_and_print('DEU', daily, t0, pops)"
   ]
  },
  {
   "cell_type": "code",
   "execution_count": null,
   "metadata": {},
   "outputs": [],
   "source": [
    "# DEU data and parapmeters\n",
    "\n",
    "# fdat = daily_DEU\n",
    "# xdat = np.arange(len(fdat))\n",
    "    \n",
    "# popt, pcov = curve_fit(daily_fit, xdat, fdat)\n",
    "# print(popt)\n",
    "# t1=popt[0]\n",
    "# dt=popt[1]\n",
    "# dn=popt[2]\n",
    "\n",
    "# ffit=daily_fit(xdat, t1, dt, dn)\n",
    "\n",
    "# rmsfit=np.sqrt(np.sum((ffit-fdat)**2)/len(fdat))\n",
    "# print(rmsfit/dn*100)\n",
    "\n",
    "# plt.figure(figsize=(15,5))\n",
    "# plt.scatter(xdat,fdat)\n",
    "# plt.plot(xdat,ffit,'g')\n",
    "# plt.title('DEU: 4/8/2020')\n",
    "# plt.show();\n",
    "\n",
    "# T_ext=30\n",
    "# cumm_dat=np.zeros(len(fdat))\n",
    "# xdat_ext = np.arange(len(fdat)+T_ext)\n",
    "# ffit_ext=daily_fit(xdat_ext, t1, dt, dn)\n",
    "# cumm_fit=np.zeros(len(fdat)+T_ext)\n",
    "# cumm_dat[0]=fdat[0]\n",
    "# cumm_fit[0]=ffit[0]\n",
    "# for i in range (1,len(fdat)):\n",
    "#     cumm_dat[i]=cumm_dat[i-1]+fdat[i]\n",
    "# for i in range (1,len(fdat)+T_ext):\n",
    "#     cumm_fit[i]=cumm_fit[i-1]+ffit_ext[i]\n",
    "# plt.figure(figsize=(15,5))\n",
    "# plt.scatter(xdat,cumm_dat)\n",
    "# plt.plot(xdat_ext,cumm_fit,'g')\n",
    "# plt.title('DEU: 4/8/2020')\n",
    "# plt.show();\n",
    "\n",
    "# print(cumm_fit[-1])"
   ]
  },
  {
   "cell_type": "code",
   "execution_count": null,
   "metadata": {},
   "outputs": [],
   "source": [
    "fit_and_print('FRA', daily, t0, pops)"
   ]
  },
  {
   "cell_type": "code",
   "execution_count": null,
   "metadata": {},
   "outputs": [],
   "source": [
    "# FRA data and parapmeters\n",
    "\n",
    "# fdat = daily_FRA\n",
    "# xdat = np.arange(len(fdat))\n",
    "    \n",
    "# popt, pcov = curve_fit(daily_fit, xdat, fdat)\n",
    "# print(popt)\n",
    "\n",
    "# t1=popt[0]\n",
    "# dt=popt[1]\n",
    "# dn=popt[2]\n",
    "\n",
    "# ffit=daily_fit(xdat, t1, dt, dn)\n",
    "\n",
    "# rmsfit=np.sqrt(np.sum((ffit-fdat)**2)/len(fdat))\n",
    "# print(rmsfit/dn*100)\n",
    "\n",
    "# plt.figure(figsize=(15,5))\n",
    "# plt.scatter(xdat,fdat)\n",
    "# plt.plot(xdat,ffit,'g')\n",
    "# plt.title('FRA: 4/8/2020')\n",
    "# plt.show();\n",
    "\n",
    "# T_ext=30\n",
    "# cumm_dat=np.zeros(len(fdat))\n",
    "# xdat_ext = np.arange(len(fdat)+T_ext)\n",
    "# ffit_ext=daily_fit(xdat_ext, t1, dt, dn)\n",
    "# cumm_fit=np.zeros(len(fdat)+T_ext)\n",
    "# cumm_dat[0]=fdat[0]\n",
    "# cumm_fit[0]=ffit[0]\n",
    "# for i in range (1,len(fdat)):\n",
    "#     cumm_dat[i]=cumm_dat[i-1]+fdat[i]\n",
    "# for i in range (1,len(fdat)+T_ext):\n",
    "#     cumm_fit[i]=cumm_fit[i-1]+ffit_ext[i]\n",
    "# plt.figure(figsize=(15,5))\n",
    "# plt.scatter(xdat,cumm_dat)\n",
    "# plt.plot(xdat_ext,cumm_fit,'g')\n",
    "# plt.title('FRA: 4/8/2020')\n",
    "# plt.show();\n",
    "\n",
    "# print(cumm_fit[-1])"
   ]
  },
  {
   "cell_type": "code",
   "execution_count": null,
   "metadata": {},
   "outputs": [],
   "source": [
    "fit_and_print('GRC', daily, t0, pops)"
   ]
  },
  {
   "cell_type": "code",
   "execution_count": null,
   "metadata": {},
   "outputs": [],
   "source": [
    "# GRC data and parapmeters\n",
    "\n",
    "# fdat = daily_GRC\n",
    "# xdat = np.arange(len(fdat))\n",
    "    \n",
    "# popt, pcov = curve_fit(daily_fit, xdat, fdat)\n",
    "# print(popt)\n",
    "# t1=popt[0]\n",
    "# dt=popt[1]\n",
    "# dn=popt[2]\n",
    "\n",
    "# ffit=daily_fit(xdat, t1, dt, dn)\n",
    "\n",
    "# rmsfit=np.sqrt(np.sum((ffit-fdat)**2)/len(fdat))\n",
    "# print(rmsfit/dn*100)\n",
    "\n",
    "# fig=plt.figure(figsize=(10,5))\n",
    "# plt.scatter(xdat,fdat)\n",
    "# plt.plot(xdat,ffit,'g')\n",
    "# plt.title('GRC: 4/8/2020')\n",
    "# plt.ylabel('Daily cases')\n",
    "# plt.xlabel('$t-t_0$ (days)')\n",
    "# plt.show();\n",
    "# fig.savefig('Daily_GRC.png',format='png')\n",
    "\n",
    "\n",
    "# T_ext=30\n",
    "# cumm_dat=np.zeros(len(fdat))\n",
    "# xdat_ext = np.arange(len(fdat)+T_ext)\n",
    "# ffit_ext=daily_fit(xdat_ext, t1, dt, dn)\n",
    "# cumm_fit=np.zeros(len(fdat)+T_ext)\n",
    "# cumm_dat[0]=fdat[0]\n",
    "# cumm_fit[0]=ffit[0]\n",
    "# for i in range (1,len(fdat)):\n",
    "#     cumm_dat[i]=cumm_dat[i-1]+fdat[i]\n",
    "# for i in range (1,len(fdat)+T_ext):\n",
    "#     cumm_fit[i]=cumm_fit[i-1]+ffit_ext[i]\n",
    "    \n",
    "# fig=plt.figure(figsize=(10,5))\n",
    "# plt.scatter(xdat,cumm_dat)\n",
    "# plt.plot(xdat_ext,cumm_fit,'g')\n",
    "# plt.title('GRC: 4/8/2020')\n",
    "# plt.ylabel('Total cases')\n",
    "# plt.xlabel('$t-t_0$ (days)')\n",
    "# plt.show();\n",
    "# fig.savefig('Total_GRC.png',format='png')\n",
    "\n",
    "\n",
    "# print(cumm_fit[-1])"
   ]
  },
  {
   "cell_type": "code",
   "execution_count": null,
   "metadata": {},
   "outputs": [],
   "source": [
    "fit_and_print('CHN', daily, t0, pops)"
   ]
  },
  {
   "cell_type": "code",
   "execution_count": null,
   "metadata": {},
   "outputs": [],
   "source": [
    "# # CHN data and parapmeters\n",
    "\n",
    "# fdat = daily_CHN\n",
    "# xdat = np.arange(len(fdat))\n",
    "    \n",
    "# popt, pcov = curve_fit(daily_fit, xdat, fdat)\n",
    "# print(popt)\n",
    "# t1=popt[0]\n",
    "# dt=popt[1]\n",
    "# dn=popt[2]\n",
    "\n",
    "# ffit=daily_fit(xdat, t1, dt, dn)\n",
    "\n",
    "# rmsfit=np.sqrt(np.sum((ffit-fdat)**2)/len(fdat))\n",
    "# print(rmsfit/dn*100)\n",
    "\n",
    "# fig=plt.figure(figsize=(10,5))\n",
    "# plt.scatter(xdat,fdat)\n",
    "# plt.plot(xdat,ffit,'g')\n",
    "# plt.title('CHN: 4/8/2020')\n",
    "# plt.ylabel('Daily cases')\n",
    "# plt.xlabel('$t-t_0$ (days)')\n",
    "# plt.show();\n",
    "# fig.savefig('Daily_CHN.png',format='png')\n",
    "\n",
    "\n",
    "# T_ext=10\n",
    "# cumm_dat=np.zeros(len(fdat))\n",
    "# xdat_ext = np.arange(len(fdat)+T_ext)\n",
    "# ffit_ext=daily_fit(xdat_ext, t1, dt, dn)\n",
    "# cumm_fit=np.zeros(len(fdat)+T_ext)\n",
    "# cumm_dat[0]=fdat[0]\n",
    "# cumm_fit[0]=ffit[0]\n",
    "# for i in range (1,len(fdat)):\n",
    "#     cumm_dat[i]=cumm_dat[i-1]+fdat[i]\n",
    "# for i in range (1,len(fdat)+T_ext):\n",
    "#     cumm_fit[i]=cumm_fit[i-1]+ffit_ext[i]\n",
    "    \n",
    "# fig=plt.figure(figsize=(10,5))\n",
    "# plt.scatter(xdat,cumm_dat)\n",
    "# plt.plot(xdat_ext,cumm_fit,'g')\n",
    "# plt.title('CHN: 4/8/2020')\n",
    "# plt.ylabel('Total cases')\n",
    "# plt.xlabel('$t-t_0$ (days)')\n",
    "# #plt.legend()\n",
    "# plt.show();\n",
    "# fig.savefig('Total_CHN.png',format='png')\n",
    "\n",
    "\n",
    "# print(cumm_fit[-1])"
   ]
  },
  {
   "cell_type": "code",
   "execution_count": null,
   "metadata": {
    "scrolled": false
   },
   "outputs": [],
   "source": [
    "# # USA data and parapmeters\n",
    "\n",
    "# fdat = daily_USA\n",
    "# xdat = np.arange(len(fdat))\n",
    "    \n",
    "# popt, pcov = curve_fit(daily_fit, xdat, fdat)\n",
    "# print(popt)\n",
    "# t1=popt[0]\n",
    "# dt=popt[1]\n",
    "# dn=popt[2]\n",
    "\n",
    "# dt=22\n",
    "\n",
    "# ffit=daily_fit(xdat, t1, dt, dn)\n",
    "\n",
    "# rmsfit=np.sqrt(np.sum((ffit-fdat)**2)/len(fdat))\n",
    "# print(rmsfit/dn*100)\n",
    "\n",
    "# fig=plt.figure(figsize=(10,5))\n",
    "# plt.scatter(xdat,fdat)\n",
    "# plt.plot(xdat,ffit,'g')\n",
    "# plt.title('USA: 4/8/2020')\n",
    "# plt.ylabel('Daily cases')\n",
    "# plt.xlabel('$t-t_0$ (days)')\n",
    "# plt.show();\n",
    "# fig.savefig('Daily_USA.png',format='png')\n",
    "\n",
    "\n",
    "# T_ext=30\n",
    "# cumm_dat=np.zeros(len(fdat))\n",
    "# xdat_ext = np.arange(len(fdat)+T_ext)\n",
    "# ffit_ext=daily_fit(xdat_ext, t1, dt, dn)\n",
    "# cumm_fit=np.zeros(len(fdat)+T_ext)\n",
    "# cumm_dat[0]=fdat[0]\n",
    "# cumm_fit[0]=ffit[0]\n",
    "# for i in range (1,len(fdat)):\n",
    "#     cumm_dat[i]=cumm_dat[i-1]+fdat[i]\n",
    "# for i in range (1,len(fdat)+T_ext):\n",
    "#     cumm_fit[i]=cumm_fit[i-1]+ffit_ext[i]\n",
    "    \n",
    "# fig=plt.figure(figsize=(10,5))\n",
    "# plt.scatter(xdat,cumm_dat)\n",
    "# plt.plot(xdat_ext,cumm_fit,'g')\n",
    "# plt.ylabel('Total cases')\n",
    "# plt.xlabel('$t-t_0$ (days)')\n",
    "# plt.title('USA: 4/8/2020')\n",
    "# plt.show();\n",
    "# fig.savefig('Total_USA.png',format='png')\n",
    "\n",
    "\n",
    "# print(cumm_fit[-1])"
   ]
  },
  {
   "cell_type": "code",
   "execution_count": null,
   "metadata": {},
   "outputs": [],
   "source": [
    "def daily_fit(t,t1,dt,dn):\n",
    "    a=0.25\n",
    "    t2=t1+dt\n",
    "    return dn*(1./(1.+np.exp(-a*(t-t1))) - 1./(1.+np.exp(-a*(t-t2))))\n",
    "\n",
    "fit_and_print('GBR', daily, t0, pops)"
   ]
  },
  {
   "cell_type": "code",
   "execution_count": null,
   "metadata": {},
   "outputs": [],
   "source": [
    "# CHN data and parapmeters\n",
    "\n",
    "# def daily_fit(t,t1,dt,dn):\n",
    "#     a=0.25\n",
    "#     t2=t1+dt\n",
    "#     return dn*(1./(1.+np.exp(-a*(t-t1))) - 1./(1.+np.exp(-a*(t-t2))))\n",
    "\n",
    "# fdat = daily_GBR\n",
    "# xdat = np.arange(len(fdat))\n",
    "    \n",
    "# popt, pcov = curve_fit(daily_fit, xdat, fdat)\n",
    "# print(popt)\n",
    "# t1=popt[0]\n",
    "# dt=popt[1]\n",
    "# dn=popt[2]\n",
    "\n",
    "# #t1 = 28\n",
    "# #dt = 20\n",
    "\n",
    "# ffit=daily_fit(xdat, t1, dt, dn)\n",
    "\n",
    "# rmsfit=np.sqrt(np.sum((ffit-fdat)**2)/len(fdat))\n",
    "# print(rmsfit/dn*100)\n",
    "\n",
    "# plt.figure(figsize=(15,5))\n",
    "# plt.scatter(xdat,fdat)\n",
    "# plt.plot(xdat,ffit,'g')\n",
    "# plt.title('GBR: 4/8/2020')\n",
    "# plt.show();\n",
    "\n",
    "# T_ext=30\n",
    "# cumm_dat=np.zeros(len(fdat))\n",
    "# xdat_ext = np.arange(len(fdat)+T_ext)\n",
    "# ffit_ext=daily_fit(xdat_ext, t1, dt, dn)\n",
    "# cumm_fit=np.zeros(len(fdat)+T_ext)\n",
    "# cumm_dat[0]=fdat[0]\n",
    "# cumm_fit[0]=ffit[0]\n",
    "# for i in range (1,len(fdat)):\n",
    "#     cumm_dat[i]=cumm_dat[i-1]+fdat[i]\n",
    "# for i in range (1,len(fdat)+T_ext):\n",
    "#     cumm_fit[i]=cumm_fit[i-1]+ffit_ext[i]\n",
    "# plt.figure(figsize=(15,5))\n",
    "# plt.scatter(xdat,cumm_dat)\n",
    "# plt.plot(xdat_ext,cumm_fit,'g')\n",
    "# plt.title('GBR: 4/1/2020')\n",
    "# plt.show();\n",
    "\n",
    "# print(cumm_fit[-1])"
   ]
  },
  {
   "cell_type": "code",
   "execution_count": null,
   "metadata": {},
   "outputs": [],
   "source": [
    "# # CHN data and parapmeters\n",
    "\n",
    "# fdat = daily_SWE\n",
    "# xdat = np.arange(len(fdat))\n",
    "    \n",
    "# popt, pcov = curve_fit(daily_fit, xdat, fdat)\n",
    "# print(popt)\n",
    "# t1=popt[0]\n",
    "# dt=popt[1]\n",
    "# dn=popt[2]\n",
    "\n",
    "# dt = 60\n",
    "\n",
    "# ffit=daily_fit(xdat, t1, dt, dn)\n",
    "\n",
    "# rmsfit=np.sqrt(np.sum((ffit-fdat)**2)/len(fdat))\n",
    "# print(rmsfit/dn*100)\n",
    "\n",
    "# plt.figure(figsize=(15,5))\n",
    "# plt.scatter(xdat,fdat)\n",
    "# plt.plot(xdat,ffit,'g')\n",
    "# plt.title('SWE: 4/8/2020')\n",
    "# plt.show();\n",
    "\n",
    "# T_ext=30\n",
    "# cumm_dat=np.zeros(len(fdat))\n",
    "# xdat_ext = np.arange(len(fdat)+T_ext)\n",
    "# ffit_ext=daily_fit(xdat_ext, t1, dt, dn)\n",
    "# cumm_fit=np.zeros(len(fdat)+T_ext)\n",
    "# cumm_dat[0]=fdat[0]\n",
    "# cumm_fit[0]=ffit[0]\n",
    "# for i in range (1,len(fdat)):\n",
    "#     cumm_dat[i]=cumm_dat[i-1]+fdat[i]\n",
    "# for i in range (1,len(fdat)+T_ext):\n",
    "#     cumm_fit[i]=cumm_fit[i-1]+ffit_ext[i]\n",
    "# plt.figure(figsize=(15,5))\n",
    "# plt.scatter(xdat,cumm_dat)\n",
    "# plt.plot(xdat_ext,cumm_fit,'g')\n",
    "# plt.title('SWE: 4/1/2020')\n",
    "# plt.show();\n",
    "\n",
    "# print(cumm_fit[-1])"
   ]
  },
  {
   "cell_type": "code",
   "execution_count": null,
   "metadata": {},
   "outputs": [],
   "source": [
    "# # CHN data and parapmeters\n",
    "\n",
    "# fdat = daily_CHE\n",
    "# xdat = np.arange(len(fdat))\n",
    "    \n",
    "# popt, pcov = curve_fit(daily_fit, xdat, fdat)\n",
    "# print(popt)\n",
    "# t1=popt[0]\n",
    "# dt=popt[1]\n",
    "# dn=popt[2]\n",
    "\n",
    "# #dt=23\n",
    "\n",
    "# ffit=daily_fit(xdat, t1, dt, dn)\n",
    "\n",
    "# rmsfit=np.sqrt(np.sum((ffit-fdat)**2)/len(fdat))\n",
    "# print(rmsfit/dn*100)\n",
    "\n",
    "# plt.figure(figsize=(15,5))\n",
    "# plt.scatter(xdat,fdat)\n",
    "# plt.plot(xdat,ffit,'g')\n",
    "# plt.title('CHE: 4/8/2020')\n",
    "# plt.show();\n",
    "\n",
    "# T_ext=30\n",
    "# cumm_dat=np.zeros(len(fdat))\n",
    "# xdat_ext = np.arange(len(fdat)+T_ext)\n",
    "# ffit_ext=daily_fit(xdat_ext, t1, dt, dn)\n",
    "# cumm_fit=np.zeros(len(fdat)+T_ext)\n",
    "# cumm_dat[0]=fdat[0]\n",
    "# cumm_fit[0]=ffit[0]\n",
    "# for i in range (1,len(fdat)):\n",
    "#     cumm_dat[i]=cumm_dat[i-1]+fdat[i]\n",
    "# for i in range (1,len(fdat)+T_ext):\n",
    "#     cumm_fit[i]=cumm_fit[i-1]+ffit_ext[i]\n",
    "# plt.figure(figsize=(15,5))\n",
    "# plt.scatter(xdat,cumm_dat)\n",
    "# plt.plot(xdat_ext,cumm_fit,'g')\n",
    "# plt.title('CHE: 4/1/2020')\n",
    "# plt.show();\n",
    "\n",
    "# print(cumm_fit[-1])"
   ]
  },
  {
   "cell_type": "code",
   "execution_count": null,
   "metadata": {},
   "outputs": [],
   "source": [
    "t1_ten=np.zeros(10)\n",
    "x=np.arange(10)\n",
    "t1_ten[7]=27.7\n",
    "t1_ten[2]=21.4\n",
    "t1_ten[4]=23.5\n",
    "t1_ten[5]=24.5\n",
    "t1_ten[6]=27.1\n",
    "t1_ten[1]=17.0\n",
    "t1_ten[0]=18.5\n",
    "t1_ten[9]=28.6\n",
    "t1_ten[8]=31.5\n",
    "t1_ten[3]=22.4\n",
    "\n",
    "fig=plt.figure(figsize=(6,5))\n",
    "plt.plot(x[0],t1_ten[0],'o',label='CHN')\n",
    "plt.plot(x[1],t1_ten[1],'o',label='GRC')\n",
    "plt.plot(x[2],t1_ten[2],'o',label='ITA')\n",
    "plt.plot(x[3],t1_ten[3],'o',label='CHE')\n",
    "plt.plot(x[4],t1_ten[4],'o',label='NLD')\n",
    "plt.plot(x[5],t1_ten[5],'o',label='DEU')\n",
    "plt.plot(x[6],t1_ten[6],'o',label='FRA')\n",
    "plt.plot(x[7],t1_ten[7],'o',label='ESP')\n",
    "plt.plot(x[8],t1_ten[8],'o',label='GBR')\n",
    "plt.plot(x[9],t1_ten[9],'o',label='USA')\n",
    "plt.xlabel('Country index')\n",
    "plt.ylabel('$t_1$ (days)')\n",
    "plt.ylim(0,35)\n",
    "plt.xlim(-1,12)\n",
    "plt.legend()\n",
    "plt.show()\n",
    "fig.savefig('t1_10.png',format='png')\n"
   ]
  },
  {
   "cell_type": "code",
   "execution_count": null,
   "metadata": {},
   "outputs": [],
   "source": [
    "Nt_ten=np.zeros(10)\n",
    "x=np.arange(10)\n",
    "Nt_ten[0]=81054\n",
    "Nt_ten[1]=2210\n",
    "Nt_ten[2]=150900\n",
    "Nt_ten[3]=25424\n",
    "Nt_ten[4]=25150\n",
    "Nt_ten[5]=128900\n",
    "Nt_ten[6]=93100\n",
    "Nt_ten[7]=163750\n",
    "Nt_ten[8]=81440\n",
    "Nt_ten[9]=802000\n",
    "\n",
    "fig=plt.figure(figsize=(6,5))\n",
    "plt.plot(x[0],Nt_ten[0]/pops['CHN']*1.0e6,'o',label='CHN')\n",
    "plt.plot(x[1],Nt_ten[1]/pops['GRC']*1.0e6,'o',label='GRC')\n",
    "plt.plot(x[2],Nt_ten[2]/pops['ITA']*1.0e6,'o',label='ITA')\n",
    "plt.plot(x[3],Nt_ten[3]/pops['CHE']*1.0e6,'o',label='CHE')\n",
    "plt.plot(x[4],Nt_ten[4]/pops['NLD']*1.0e6,'o',label='NLD')\n",
    "plt.plot(x[5],Nt_ten[5]/pops['DEU']*1.0e6,'o',label='DEU')\n",
    "plt.plot(x[6],Nt_ten[6]/pops['FRA']*1.0e6,'o',label='FRA')\n",
    "plt.plot(x[7],Nt_ten[7]/pops['ESP']*1.0e6,'o',label='ESP')\n",
    "plt.plot(x[8],Nt_ten[8]/pops['GBR']*1.0e6,'o',label='GBR')\n",
    "plt.plot(x[9],Nt_ten[9]/pops['USA']*1.0e6,'o',label='USA')\n",
    "plt.ylim(0,4000)\n",
    "plt.xlim(-1,12)\n",
    "plt.xlabel('Country index')\n",
    "plt.ylabel('Total cases per million')\n",
    "plt.legend()\n",
    "plt.show()\n",
    "fig.savefig('Nt_10.png',format='png')"
   ]
  },
  {
   "cell_type": "code",
   "execution_count": null,
   "metadata": {},
   "outputs": [],
   "source": [
    "Nt_ten=np.zeros(10)\n",
    "x=np.arange(10)\n",
    "Nt_ten[0]=81054\n",
    "Nt_ten[1]=2210\n",
    "Nt_ten[2]=150900\n",
    "Nt_ten[3]=25424\n",
    "Nt_ten[4]=25150\n",
    "Nt_ten[5]=128900\n",
    "Nt_ten[6]=93100\n",
    "Nt_ten[7]=163750\n",
    "Nt_ten[8]=81440\n",
    "Nt_ten[9]=802000\n",
    "\n",
    "fig=plt.figure(figsize=(6,5))\n",
    "plt.plot(x[0],Nt_ten[0]/pops['CHN']*1.0e6,'o',label='CHN')\n",
    "plt.plot(x[1],Nt_ten[1]/pops['GRC']*1.0e6,'o',label='GRC')\n",
    "plt.plot(x[2],Nt_ten[2]/pops['ITA']*1.0e6,'o',label='ITA')\n",
    "plt.plot(x[3],Nt_ten[3]/pops['CHE']*1.0e6,'o',label='CHE')\n",
    "plt.plot(x[4],Nt_ten[4]/pops['NLD']*1.0e6,'o',label='NLD')\n",
    "plt.plot(x[5],Nt_ten[5]/pops['DEU']*1.0e6,'o',label='DEU')\n",
    "plt.plot(x[6],Nt_ten[6]/pops['FRA']*1.0e6,'o',label='FRA')\n",
    "plt.plot(x[7],Nt_ten[7]/pops['ESP']*1.0e6,'o',label='ESP')\n",
    "plt.plot(x[8],Nt_ten[8]/pops['GBR']*1.0e6,'o',label='GBR')\n",
    "plt.plot(x[9],Nt_ten[9]/pops['USA']*1.0e6,'o',label='USA')\n",
    "plt.ylim(0,4000)\n",
    "plt.xlim(-1,12)\n",
    "plt.xlabel('Country index')\n",
    "plt.ylabel('Total cases per million')\n",
    "plt.legend()\n",
    "plt.show()\n",
    "fig.savefig('Nt_10.png',format='png')"
   ]
  },
  {
   "cell_type": "code",
   "execution_count": null,
   "metadata": {},
   "outputs": [],
   "source": []
  }
 ],
 "metadata": {
  "kernelspec": {
   "display_name": "Python 3",
   "language": "python",
   "name": "python3"
  },
  "language_info": {
   "codemirror_mode": {
    "name": "ipython",
    "version": 3
   },
   "file_extension": ".py",
   "mimetype": "text/x-python",
   "name": "python",
   "nbconvert_exporter": "python",
   "pygments_lexer": "ipython3",
   "version": "3.7.6"
  }
 },
 "nbformat": 4,
 "nbformat_minor": 1
}
